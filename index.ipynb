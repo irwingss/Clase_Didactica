{
  "cells": [
    {
      "cell_type": "raw",
      "metadata": {},
      "source": [
        "---\n",
        "title: \"Modelo Lineal con R\"\n",
        "author: \"Blgo. Irwing S. Saldaña\"\n",
        "date: \"Instituto de Ciencias Antonio Brack | masterX\"\n",
        "format:\n",
        "  revealjs:\n",
        "    incremental: true\n",
        "    smaller: false\n",
        "    scrollable: true\n",
        "    theme: simple\n",
        "    logo: logo.png\n",
        "    footer: <span style=\"font-size:13px;\">\"Modelos Lineales con R | Blgo. Irwing S. Saldaña\"</span>\n",
        "    slide-number: false\n",
        "    show-slide-number: print\n",
        "    preview-links: true\n",
        "    self-contained: false\n",
        "    chalkboard: true\n",
        "    boardmarker-width: 3\n",
        "editor: visual\n",
        "---"
      ],
      "id": "b93e367c"
    },
    {
      "cell_type": "markdown",
      "metadata": {},
      "source": [
        "# Conociendo el <br>entorno de trabajo\n",
        "\n",
        "## ¿R?\n",
        "\n",
        "-   R es un lenguaje de programación.\n",
        "\n",
        "-   Permite al usuario crear sus propias rutas analíticas.\n",
        "\n",
        "-   Usaremos RStudio como intérprete del lenguaje R.\n",
        "\n",
        "![](R%20logo.png){fig-align=\"right\" width=\"180\"}\n",
        "\n",
        "## ¿Qué herramientas didácticas usaremos?\n",
        "\n",
        "-   Diapositivas interactivas con Quarto Markdown y Revealjs en RStudio.\n",
        "\n",
        "-   Desarrollo en vivo de modelamiento con lenguaje de programación R.\n",
        "\n",
        "-   Quizizz para reforzamiento final\n",
        "\n",
        "![](logos%20herramientas.png){fig-align=\"right\" width=\"186\"}\n",
        "\n",
        "## \n",
        "\n",
        "\n",
        "## Vamos a Quizziz\n",
        "\n",
        "[Enlace al test de progreso](https://quizizz.com/join/quiz/626180721c8c37001d86fec1/start?studentShare=true)\n",
        "\n",
        "<img src=\"Quizziz logo.jfif\" width=280 class=\"center\"> \n",
        "\n",
        "```{css, echo=FALSE}\n",
        ".center {\n",
        "  display: block;\n",
        "  margin-left: auto;\n",
        "  margin-right: auto;\n",
        "  width: 50%;\n",
        "}\n",
        "```\n"
      ],
      "id": "91f0f871"
    }
  ],
  "metadata": {
    "kernelspec": {
      "display_name": "Python 3",
      "language": "python",
      "name": "python3"
    }
  },
  "nbformat": 4,
  "nbformat_minor": 5
}